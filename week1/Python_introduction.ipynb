{
  "nbformat": 4,
  "nbformat_minor": 0,
  "metadata": {
    "colab": {
      "provenance": [],
      "collapsed_sections": []
    },
    "kernelspec": {
      "name": "python3",
      "display_name": "Python 3"
    },
    "language_info": {
      "name": "python"
    }
  },
  "cells": [
    {
      "cell_type": "markdown",
      "source": [
        "# Getting started with Google Colaboratory\n",
        "\n",
        "Colab is like an interactive coding notebook: you can write chunks of text just like you would with a word document or Google Doc, interspersed with chunks of Python code. Colab is especially nifty because it allows you to run your code using Google's cloud computing resources instead of your own computer's hardware. What's more, your code is saved to the cloud in real time, just like with the other tools in Google Drive.\n",
        "\n",
        "Note: After the lecture, we'll upload the instructor's \"filled out\" notebook to the Google Drive."
      ],
      "metadata": {
        "id": "KeRIG8uswkMO"
      }
    },
    {
      "cell_type": "markdown",
      "source": [],
      "metadata": {
        "id": "b3pp8UDjUu8h"
      }
    },
    {
      "cell_type": "code",
      "source": [
        "# \n"
      ],
      "metadata": {
        "id": "YQ9wDsaV0s9C"
      },
      "execution_count": null,
      "outputs": []
    },
    {
      "cell_type": "markdown",
      "source": [
        "## Useful Shortcuts\n",
        "`shift` + `enter` : Run the current cell and move to the next cell.   \n",
        "`control` + `enter` : Run the current cell and stay on the cell.   \n",
        "`esc` + `a` : Create a new code cell above the current cell.    \n",
        "`esc` + `b` : Create a new code cell below the current cell.   \n",
        "`command` or `control` + `/` : comment out selected code."
      ],
      "metadata": {
        "id": "FgkNHOWY0367"
      }
    },
    {
      "cell_type": "markdown",
      "source": [
        "# Python Basics"
      ],
      "metadata": {
        "id": "TArBlV7m3loI"
      }
    },
    {
      "cell_type": "markdown",
      "source": [
        "Useful External Resouces For Python Introduction:\n",
        "\n",
        "CCB python bootcamp: https://ccb.berkeley.edu/outreach/workshops-bootcamps/"
      ],
      "metadata": {
        "id": "8gkfp82G4OOz"
      }
    },
    {
      "cell_type": "markdown",
      "source": [
        "Python is a language that centers around manipulation of \"objects\" of different types. Data, which we would like to analyze, can be represented as certain types of objects."
      ],
      "metadata": {
        "id": "Woj23Fmf4B0M"
      }
    },
    {
      "cell_type": "markdown",
      "source": [
        "## Data types & variables"
      ],
      "metadata": {
        "id": "_1Y4lFsq3wCf"
      }
    },
    {
      "cell_type": "code",
      "source": [],
      "metadata": {
        "id": "ALQiGMX13gPE"
      },
      "execution_count": null,
      "outputs": []
    },
    {
      "cell_type": "markdown",
      "source": [
        "Variables are simply representations of the data that you want to work with."
      ],
      "metadata": {
        "id": "5fzsfJBz4YPg"
      }
    },
    {
      "cell_type": "code",
      "source": [],
      "metadata": {
        "id": "AP2S_ibV-kep"
      },
      "execution_count": null,
      "outputs": []
    },
    {
      "cell_type": "markdown",
      "source": [
        "**Math & Logic**\n",
        "\n",
        "we can use all the normal symbols:\n",
        "\n",
        "> +: plus  \n",
        "-: minus.  \n",
        "/: divide.  \n",
        "*: times.  \n",
        "%: modulo.  \n",
        "<: less than.  \n",
        ">: greater than.  \n",
        "\\<=: less than or equal to.  \n",
        "\\>=: greater than or equal to.  \n",
        "==: equivalence.  \n",
        "!=: non-equivalence\n",
        "\n",
        "Further documentation:\n",
        "https://docs.python.org/3/library/stdtypes.html#numeric-types-int-float-complex"
      ],
      "metadata": {
        "id": "HyMj8zBoAaNw"
      }
    },
    {
      "cell_type": "code",
      "source": [],
      "metadata": {
        "id": "wfpQ_gLB-657"
      },
      "execution_count": null,
      "outputs": []
    },
    {
      "cell_type": "markdown",
      "source": [
        "## Basic data structures\n",
        "### **List**\n",
        "Lists are exactly what they sound like: they are containers that house elements in a given sequence/order. "
      ],
      "metadata": {
        "id": "bk28n38xDf5B"
      }
    },
    {
      "cell_type": "code",
      "source": [],
      "metadata": {
        "id": "Zufnt_H9DBPV"
      },
      "execution_count": null,
      "outputs": []
    },
    {
      "cell_type": "code",
      "source": [],
      "metadata": {
        "id": "1MpANdwoEbNX"
      },
      "execution_count": null,
      "outputs": []
    },
    {
      "cell_type": "markdown",
      "source": [
        "Here are some useful functions for list operations:\n",
        "\n",
        "\n",
        "> Get the length of a list: `len()`.  \n",
        "Get the maximum value in a list: `max()`.  \n",
        "Check if a certain element or value is in a list: `in`.  \n",
        "Sort the list: `sorted()`.  \n",
        "Count the instances of an element in the list: `.count()`.  \n",
        "Coerce strings to a list: `list()`\n",
        "\n",
        "Further documentation: https://www.programiz.com/python-programming/methods/list"
      ],
      "metadata": {
        "id": "0kJIrCzAD8xO"
      }
    },
    {
      "cell_type": "code",
      "source": [],
      "metadata": {
        "id": "q1Ydv_VkD5QP"
      },
      "execution_count": null,
      "outputs": []
    },
    {
      "cell_type": "markdown",
      "source": [
        "### **Dictionary**\n",
        "Dictionaries hold key:value pairs - in some languages these are called \"hash tables\".\n"
      ],
      "metadata": {
        "id": "by7mIRB9JGep"
      }
    },
    {
      "cell_type": "code",
      "source": [],
      "metadata": {
        "id": "VFc-NEKLHMgF"
      },
      "execution_count": null,
      "outputs": []
    },
    {
      "cell_type": "markdown",
      "source": [
        "### **Numpy Arrays**\n",
        "NumPy is the fundamental package for scientific computing in Python. It is a Python library that provides a **multidimensional array object**, various derived objects (such as masked arrays and matrices), and an assortment of routines for fast operations on arrays, including mathematical, logical, shape manipulation, sorting, selecting, I/O, discrete Fourier transforms, basic linear algebra, basic statistical operations, random simulation and much more.\n",
        "\n",
        "We would not go deep into NumPy here, but this is a very useful and basic data structure in Python that people use everyday. If you want to learn deeper about coding with Python, do check out the following link for how to use this powerful package:\n",
        "\n",
        "https://numpy.org/doc/stable/user/index.html"
      ],
      "metadata": {
        "id": "QwPCdRBF5cGN"
      }
    },
    {
      "cell_type": "markdown",
      "source": [
        "## Basic Pandas usage\n",
        "\n",
        "***Pandas***, a powerful Python data science package that provides infrastructure for working with complex tabular data.\n",
        "\n",
        "Documentation: https://pandas.pydata.org/"
      ],
      "metadata": {
        "id": "9iXwmB85L85P"
      }
    },
    {
      "cell_type": "code",
      "source": [
        "# import the package\n",
        "import pandas as pd\n",
        "\n",
        "# Below are some lines to download the data we'll be using:\n",
        "# all of the data is stored on an website called \"github\" where people can store and update \n",
        "# their own code and small datasets.\n",
        "# The data for this tutorial is stored in our course github repo.\n",
        "# This takes ~1 minute to run, since it has to download data.\n",
        "\n",
        "!git clone https://github.com/CCB293/Fall-2022.git\n",
        "\n",
        "# set current directory\n",
        "!cd Fall-2022/week1"
      ],
      "metadata": {
        "id": "jkllZrhxN132"
      },
      "execution_count": 1,
      "outputs": []
    },
    {
      "cell_type": "code",
      "source": [
        "# show your current path\n",
        "\n",
        "# list all files under the current path\n"
      ],
      "metadata": {
        "id": "mCW1hXTv7nUU"
      },
      "execution_count": null,
      "outputs": []
    },
    {
      "cell_type": "markdown",
      "source": [
        "Now let`s get into a dataset and use Pandas to manipulate and analyze the data."
      ],
      "metadata": {
        "id": "fBbG87EO9CRJ"
      }
    },
    {
      "cell_type": "code",
      "source": [],
      "metadata": {
        "id": "T8lpBD-RNECf"
      },
      "execution_count": null,
      "outputs": []
    },
    {
      "cell_type": "markdown",
      "source": [
        "Now let`s get a sense of the dataset structure."
      ],
      "metadata": {
        "id": "CqOqsNxNJMfu"
      }
    },
    {
      "cell_type": "code",
      "source": [
        "\n"
      ],
      "metadata": {
        "id": "clvFYuDCNH8L"
      },
      "execution_count": null,
      "outputs": []
    },
    {
      "cell_type": "markdown",
      "source": [
        "### **Indexing**"
      ],
      "metadata": {
        "id": "0BTb2_yZ_j-v"
      }
    },
    {
      "cell_type": "markdown",
      "source": [
        "`dataframe[column_lable]`.  \n",
        "`dataframe.loc[row_label]`\n"
      ],
      "metadata": {
        "id": "gharewUWYgvB"
      }
    },
    {
      "cell_type": "code",
      "source": [],
      "metadata": {
        "id": "N1AXKdgENTQd"
      },
      "execution_count": null,
      "outputs": []
    },
    {
      "cell_type": "markdown",
      "source": [
        "### **Simple methods**\n",
        "\n",
        "Now that we're up to speed on how to parse DataFrames, we can learn about the utility that pandas has for data exploration."
      ],
      "metadata": {
        "id": "yVuM0_DRC4tt"
      }
    },
    {
      "cell_type": "code",
      "source": [],
      "metadata": {
        "id": "nw146k3UC4JP"
      },
      "execution_count": null,
      "outputs": []
    },
    {
      "cell_type": "code",
      "source": [],
      "metadata": {
        "id": "Rq-uitIPDvCt"
      },
      "execution_count": null,
      "outputs": []
    },
    {
      "cell_type": "code",
      "source": [],
      "metadata": {
        "id": "4x4yFvlAEWgp"
      },
      "execution_count": null,
      "outputs": []
    },
    {
      "cell_type": "markdown",
      "source": [
        "## Plotting with matplotlib"
      ],
      "metadata": {
        "id": "zTCwtSEGLo3j"
      }
    },
    {
      "cell_type": "markdown",
      "source": [
        "You can make publication ready figures using matplotlib and you can change almost anything about the plot above (e.g. labels, fonts, colors, resolution, size, grid, axis, save in different formats etc)\n",
        "\n",
        "Details: https://matplotlib.org/stable/tutorials/index.html"
      ],
      "metadata": {
        "id": "TxBqIYmoL0KC"
      }
    },
    {
      "cell_type": "code",
      "source": [],
      "metadata": {
        "id": "kGZkHm04Konh"
      },
      "execution_count": null,
      "outputs": []
    },
    {
      "cell_type": "code",
      "source": [
        " # plot dots\n",
        " # plot a line\n",
        " # set x label\n",
        " # set y label\n",
        " # set title\n",
        " # save the figure"
      ],
      "metadata": {
        "id": "kAFSk3C_LwH8"
      },
      "execution_count": null,
      "outputs": []
    },
    {
      "cell_type": "markdown",
      "source": [
        "There are many packages developed for plotting in Python, Matplotlib here is the most basic one. Many other times there exist packages that are optimized for different types analysis that built upon Matplotlib. **Seaborn** is a very famous example of this. Check out the following link for plotting with seaborn:\n",
        "\n",
        "https://seaborn.pydata.org/"
      ],
      "metadata": {
        "id": "1uz4BV8TFWKD"
      }
    },
    {
      "cell_type": "code",
      "source": [],
      "metadata": {
        "id": "bZoqsbtfF8-B"
      },
      "execution_count": null,
      "outputs": []
    }
  ]
}