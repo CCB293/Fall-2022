{
  "nbformat": 4,
  "nbformat_minor": 0,
  "metadata": {
    "colab": {
      "name": "Python introduction.ipynb",
      "provenance": [],
      "collapsed_sections": []
    },
    "kernelspec": {
      "name": "python3",
      "display_name": "Python 3"
    },
    "language_info": {
      "name": "python"
    }
  },
  "cells": [
    {
      "cell_type": "markdown",
      "source": [
        "# Getting started with Google Colaboratory\n",
        "\n",
        "For the first tutorial of the course, you'll be writing and executing your code with a tool called Google Colaboratory (Google Colab for short).\n",
        "\n",
        "Colab is like an interactive coding notebook: you can write chunks of text just like you would with a word document or Google Doc, interspersed with chunks of Python code. Colab is especially nifty because it allows you to run your code using Google's cloud computing resources instead of your own computer's hardware. What's more, your code is saved to the cloud in real time, just like with the other tools in Google Drive.\n",
        "\n",
        "At this point, you should have your own copies of the Colab notebooks we're going to use throughout the week. During the daily lectures, the instructors will be working on their copy of the notebook. You can (and should!) work through your own copy of notebook side by side in order to get the most out of the course.\n",
        "\n",
        "Note: After the lecture, we'll upload the instructor's \"filled out\" notebook to the Google Drive.\n",
        "\n",
        "Let's get started by familiarizing ourselves with the basic tools in Colab, many of which may be familiar to you if you've used jupyter notebook."
      ],
      "metadata": {
        "id": "KeRIG8uswkMO"
      }
    },
    {
      "cell_type": "markdown",
      "source": [
        "## Editing text cells\n",
        "Much like with live lectures, you'll probably want to take notes as we go. Luckily, Colab allows you to write notes in a number of different ways. Let's start by editing some text within an already established text cell.\n",
        "\n",
        "Editing text cells in Colab follows exactly the same way as editing \"Markdown\" cells in Jupyter Notebooks. Here we would just go through basics. For future reference if you need more extensive text editing:\n",
        "\n",
        "https://medium.com/analytics-vidhya/the-ultimate-markdown-guide-for-jupyter-notebook-d5e5abf728fd\n",
        "\n"
      ],
      "metadata": {
        "id": "edpKqESGxSVK"
      }
    },
    {
      "cell_type": "markdown",
      "source": [
        "1. Single click on the sentence below to reveal the text cell. Afterwards, double click to fill in the blanks, then hold down Shift + Enter (both Windows and macOS) to save your changes."
      ],
      "metadata": {
        "id": "DHkLhgx1zXxw"
      }
    },
    {
      "cell_type": "markdown",
      "source": [
        "Double-click (or enter) to edit"
      ],
      "metadata": {
        "id": "_NcYIbkkxq51"
      }
    },
    {
      "cell_type": "markdown",
      "source": [
        "2. Adding text cells by clicking \"+Text\" on the left-up corner. Colab supports basic formatting like **bold**, *italic*, even bullet points."
      ],
      "metadata": {
        "id": "kv5WyOWCyDJH"
      }
    },
    {
      "cell_type": "markdown",
      "source": [
        "\n",
        "\n"
      ],
      "metadata": {
        "id": "OH42VjCdzs8_"
      }
    },
    {
      "cell_type": "markdown",
      "source": [
        "## Connecting to a runtime\n",
        "A runtime in Google Colab is a computing environment that allows us to execute the code in our notebook. The resources for a runtime are hosted using Google's computing resources, which means that you can run code and execute analyses on Colab regardless of your own laptop's computing capabilities.\n",
        "\n",
        "Click on the \"Connect\" button on the right hand side of the top toolbar. You should see it flash through a few different status messages. After the runtime is connected, you should see a green checkmark and two bars labeled \"RAM\" and \"Disk\"."
      ],
      "metadata": {
        "id": "qpmK4d4Mz-PX"
      }
    },
    {
      "cell_type": "markdown",
      "source": [
        "## Working with code cells\n",
        "Now that we're connected to our runtime, we can start running some code cells: these are the bread and butter of our interactive notebooks.\n",
        "\n",
        "When you're ready, go ahead and run the cell by doing one of the following:\n",
        "\n",
        "1. Hovering over the cell and pressing the Play button that appears on the left side.\n",
        "2. Click on the cell and pressing Shift + Enter (both Windows and macOS)."
      ],
      "metadata": {
        "id": "ej6UayYV0FO8"
      }
    },
    {
      "cell_type": "code",
      "source": [
        "print(\"Hello World.\")"
      ],
      "metadata": {
        "colab": {
          "base_uri": "https://localhost:8080/"
        },
        "id": "yeGUnPv40byt",
        "outputId": "5a780462-e818-4604-ef42-2d04a04122b6"
      },
      "execution_count": 1,
      "outputs": [
        {
          "output_type": "stream",
          "name": "stdout",
          "text": [
            "Hello World.\n"
          ]
        }
      ]
    },
    {
      "cell_type": "markdown",
      "source": [
        "You can edit and run code cells just like you would with text cells. In fact, editing cells to annotate code is encouraged: you can do this with **comments**, which are lines of code that are prefaced with `#` characters."
      ],
      "metadata": {
        "id": "K8QdnqqT0mdf"
      }
    },
    {
      "cell_type": "code",
      "source": [
        "# write your first code here!\n",
        "print(\"Hello World.\")"
      ],
      "metadata": {
        "id": "YQ9wDsaV0s9C"
      },
      "execution_count": null,
      "outputs": []
    },
    {
      "cell_type": "markdown",
      "source": [
        "## Useful Shortcuts\n",
        "`shift` + `enter` : Run the current cell and move to the next cell.   \n",
        "`control` + `enter` : Run the current cell and stay on the cell.   \n",
        "`esc` + `a` : Create a new code cell above the current cell.    \n",
        "`esc` + `b` : Create a new code cell below the current cell.   \n",
        "`command` or `control` + `/` : comment out selected code."
      ],
      "metadata": {
        "id": "FgkNHOWY0367"
      }
    },
    {
      "cell_type": "code",
      "source": [
        "# try comment out here.\n",
        "print(\"Hello World.\")\n",
        "print(\"Hello World.\")\n",
        "print(\"Hello World.\")"
      ],
      "metadata": {
        "id": "6Fyzsn4S2ObJ"
      },
      "execution_count": null,
      "outputs": []
    },
    {
      "cell_type": "markdown",
      "source": [
        "Congradulations! You've just taken your first baby step to writing code in Python. 🐍"
      ],
      "metadata": {
        "id": "jwzBnk0l3kxI"
      }
    },
    {
      "cell_type": "markdown",
      "source": [
        "# Python Basics"
      ],
      "metadata": {
        "id": "TArBlV7m3loI"
      }
    },
    {
      "cell_type": "markdown",
      "source": [
        "Useful External Resouces For Python Introduction:\n",
        "\n",
        "CCB python bootcamp: https://ccb.berkeley.edu/outreach/workshops-bootcamps/"
      ],
      "metadata": {
        "id": "8gkfp82G4OOz"
      }
    },
    {
      "cell_type": "markdown",
      "source": [
        "Many of the tasks scientists usually want to do with Python involve sorting and manipulating data. However, before we can do that, we have to understand how Python parses the data we give it.\n",
        "\n",
        "Python follows what we call an object-oriented programming structure. In short, Python is a language that centers around manipulation of \"objects\" of different types. Data, which we would like to analyze, can be represented as certain types of objects. Tasks or functions can also be represented as different types of objects.\n",
        "\n",
        "Although Python can be a very powerful language, it is can be a very particular language, especially for learners who are unfamiliar with the (in)flexibility of code. Let's start by going over some basic data types."
      ],
      "metadata": {
        "id": "Woj23Fmf4B0M"
      }
    },
    {
      "cell_type": "markdown",
      "source": [
        "## Data types & variables"
      ],
      "metadata": {
        "id": "_1Y4lFsq3wCf"
      }
    },
    {
      "cell_type": "code",
      "source": [
        "# strings\n",
        "\n",
        "# interger\n",
        "\n",
        "# float\n",
        "\n",
        "# Nonetype\n",
        "\n",
        "# converting datatypes\n"
      ],
      "metadata": {
        "id": "ALQiGMX13gPE"
      },
      "execution_count": null,
      "outputs": []
    },
    {
      "cell_type": "markdown",
      "source": [
        "**Variables** are simply representations of the data that you want to work with. For example, we use variables in mathematical equations like `F = ma`, where each variable `(F, m, a)` represents a value corresponding to force, mass, and acceleration.\n",
        "\n",
        "To create a variable, you write out your variable name, an assignment operator (=), and then what you want it to represent. Spaces around the equal sign are optional but encouraged for code readability."
      ],
      "metadata": {
        "id": "5fzsfJBz4YPg"
      }
    },
    {
      "cell_type": "code",
      "source": [
        "# assigning variables\n",
        "\n",
        "# calling variables\n"
      ],
      "metadata": {
        "id": "AP2S_ibV-kep"
      },
      "execution_count": null,
      "outputs": []
    },
    {
      "cell_type": "markdown",
      "source": [
        "**Math & Logic**\n",
        "\n",
        "Math is pretty straightforward in python3\n",
        "\n",
        "we can use all the normal symbols:\n",
        "\n",
        "> +: plus  \n",
        "-: minus.  \n",
        "/: divide.  \n",
        "*: times.  \n",
        "%: modulo.  \n",
        "<: less than.  \n",
        ">: greater than.  \n",
        "\\<=: less than or equal to.  \n",
        "\\>=: greater than or equal to.  \n",
        "==: equivalence.  \n",
        "!=: non-equivalence\n",
        "\n",
        "Further documentation:\n",
        "https://docs.python.org/3/library/stdtypes.html#numeric-types-int-float-complex"
      ],
      "metadata": {
        "id": "HyMj8zBoAaNw"
      }
    },
    {
      "cell_type": "code",
      "source": [
        "a = 2\n",
        "print(a+1, a-1, a/2, a*3)\n",
        "# # The '%' modulo operator gives the remainder\n",
        "# print(a%2, a%4)\n",
        "# # basic logic\n",
        "# print(a==2, a<=1, a!=2)\n"
      ],
      "metadata": {
        "colab": {
          "base_uri": "https://localhost:8080/"
        },
        "id": "wfpQ_gLB-657",
        "outputId": "eea6f783-e736-4dc7-ea56-92bda480d631"
      },
      "execution_count": null,
      "outputs": [
        {
          "output_type": "stream",
          "name": "stdout",
          "text": [
            "3 1 1.0 6\n"
          ]
        }
      ]
    },
    {
      "cell_type": "code",
      "source": [
        "# boolean logic\n",
        "t = True\n",
        "f = False\n",
        "\n",
        "# print(type(t)) # \"<class 'bool'>\"\n",
        "# print(t and f) # Logical AND; prints \"False\"\n",
        "# print(t or f)  # Logical OR; prints \"True\"\n",
        "# print(not t)   # Logical NOT; prints \"False\""
      ],
      "metadata": {
        "id": "CnEBtpI4B_Gl"
      },
      "execution_count": null,
      "outputs": []
    },
    {
      "cell_type": "markdown",
      "source": [
        "## Basic data structures\n",
        "### **List**\n",
        "Lists are exactly what they sound like: they are containers that house elements in a given sequence/order. "
      ],
      "metadata": {
        "id": "bk28n38xDf5B"
      }
    },
    {
      "cell_type": "code",
      "source": [
        "number_list = [1, 2, 3, 4, 5]\n",
        "string_list = ['a', 'p', 'p', 'l', 'e']\n",
        "mixed_list = ['orange', 22, 'f', 67.2] \n",
        "nested_list = [['apple', 'banana'], ['onion', 'potato']]"
      ],
      "metadata": {
        "id": "Zufnt_H9DBPV"
      },
      "execution_count": null,
      "outputs": []
    },
    {
      "cell_type": "markdown",
      "source": [
        "How could we access the objects that we store in lists?\n",
        "\n",
        "In Python, **iterable objects** are a special class of objects that can be accessed using something called **indexing**. In practical terms, that means that you can access the first, second, third, etc. elements of certain objects like lists and strings. Consider the following string."
      ],
      "metadata": {
        "id": "v1Mjco0l43K_"
      }
    },
    {
      "cell_type": "code",
      "source": [
        "# indexing\n",
        "# return the first item of the list, note python indexing starts from 0\n",
        "\n",
        "# return the last item of the list\n",
        "\n",
        "# return 2nd to 3rd item of the list, note number_list[3] would not be printed\n",
        "\n",
        "# return 1st to 3rd item of the list\n",
        "\n",
        "\n",
        "# concatenation\n",
        "# return a list containing all elements in string_list and number_list\n",
        "\n",
        "\n",
        "\n",
        "# splitting strings into lists\n",
        "student_names = \"Debora,Miguel,Stacy,Xu\"\n",
        "list_of_names = \"\""
      ],
      "metadata": {
        "id": "1MpANdwoEbNX"
      },
      "execution_count": null,
      "outputs": []
    },
    {
      "cell_type": "markdown",
      "source": [
        "Here are some useful functions for list operations:\n",
        "\n",
        "\n",
        "> Get the length of a list: `len()`.  \n",
        "Get the maximum value in a list: `max()`.  \n",
        "Check if a certain element or value is in a list: `in`.  \n",
        "Sort the list: `sorted()`.  \n",
        "Count the instances of an element in the list: `.count()`.  \n",
        "Coerce strings to a list: `list()`\n",
        "\n",
        "Further documentation: https://www.programiz.com/python-programming/methods/list"
      ],
      "metadata": {
        "id": "0kJIrCzAD8xO"
      }
    },
    {
      "cell_type": "code",
      "source": [
        "a = [1,54, 8, 0, 0,  3, 99]\n",
        "# print(len(a))\n",
        "# print(max(a))\n",
        "# print(9 in a)\n",
        "# print(sorted(a))\n",
        "# print(a.count(0))\n",
        "# b = 'aaaaa'\n",
        "# print(list(b))"
      ],
      "metadata": {
        "id": "q1Ydv_VkD5QP"
      },
      "execution_count": null,
      "outputs": []
    },
    {
      "cell_type": "markdown",
      "source": [
        "### **Dictionary**\n",
        "Dictionaries hold key:value pairs - in some languages these are called \"hash tables\".\n",
        "\n",
        "Dictionaries can store a mixture of different \"types\": all keys and values can be a mixture of types. Note here keys could not be unhashable types (so could not be data structures like list, set, etc.)"
      ],
      "metadata": {
        "id": "by7mIRB9JGep"
      }
    },
    {
      "cell_type": "code",
      "source": [
        "# student_info_dict = {2: 120120, \n",
        "#                      \"first_name\": [\"Jane\",\"Marry\"],\n",
        "#                      \"last_name\": \"Dough\"} \n",
        "# print(student_info_dict)"
      ],
      "metadata": {
        "id": "VFc-NEKLHMgF"
      },
      "execution_count": null,
      "outputs": []
    },
    {
      "cell_type": "code",
      "source": [
        "# indexing with keys (could not index with values)\n",
        "\n",
        "\n",
        "# change values\n",
        "# student_info_dict['first_name'][0] = 1\n",
        "# print(student_info_dict['first_name'][0])\n",
        "\n",
        "# iterating through dictionaries\n"
      ],
      "metadata": {
        "id": "HuvtBMR0JgIW"
      },
      "execution_count": null,
      "outputs": []
    },
    {
      "cell_type": "markdown",
      "source": [
        "### **Numpy Arrays**\n",
        "NumPy is the fundamental package for scientific computing in Python. It is a Python library that provides a **multidimensional array object**, various derived objects (such as masked arrays and matrices), and an assortment of routines for fast operations on arrays, including mathematical, logical, shape manipulation, sorting, selecting, I/O, discrete Fourier transforms, basic linear algebra, basic statistical operations, random simulation and much more.\n",
        "\n",
        "We would not go deep into NumPy here, but this is a very useful and basic data structure in Python that people use everyday. If you want to learn deeper about coding with Python, do check out the following link for how to use this powerful package:\n",
        "\n",
        "https://numpy.org/doc/stable/user/index.html"
      ],
      "metadata": {
        "id": "QwPCdRBF5cGN"
      }
    },
    {
      "cell_type": "markdown",
      "source": [
        "## Basic Pandas usage\n",
        "\n",
        "***Pandas***, a powerful Python data science package that provides infrastructure for working with complex tabular data.\n",
        "\n",
        "The main attraction of pandas is the data type it introduces: the **DataFrame**.\n",
        "\n",
        "**DataFrames** supports row and column names. You can index with row and column names! This can be handy if you know your sample/variable names by heart.\n",
        "\n",
        "**DataFrames** support easy database-like operations. Merging, joining, grouping, sorting on a column's values – all possible with pandas DataFrames!\n",
        "\n",
        "**DataFrames** allow mixed types. Unlike with arrays, you can store strings, integers, numerics, etc. in the same DataFrame.\n",
        "\n",
        "Documentation: https://pandas.pydata.org/"
      ],
      "metadata": {
        "id": "9iXwmB85L85P"
      }
    },
    {
      "cell_type": "code",
      "source": [
        "# import the package\n",
        "\n",
        "# Below are some lines to download the data we'll be using:\n",
        "# all of the data is stored on an website called \"github\" where people can store and update \n",
        "# their own code and small datasets.\n",
        "# The data for this tutorial is stored in our course github repo.\n",
        "# This takes ~1 minute to run, since it has to download data.\n",
        "\n",
        "!git clone https://github.com/CCB293/Fall-2022.git\n",
        "\n",
        "# set current directory\n",
        "!cd Fall-2022/week1"
      ],
      "metadata": {
        "id": "jkllZrhxN132",
        "colab": {
          "base_uri": "https://localhost:8080/"
        },
        "outputId": "3690c83f-f3f9-40a8-fb24-7f12c798e4b6"
      },
      "execution_count": 2,
      "outputs": [
        {
          "output_type": "stream",
          "name": "stdout",
          "text": [
            "Cloning into 'Fall-2022'...\n",
            "remote: Enumerating objects: 3, done.\u001b[K\n",
            "remote: Counting objects: 100% (3/3), done.\u001b[K\n",
            "remote: Compressing objects: 100% (2/2), done.\u001b[K\n",
            "remote: Total 3 (delta 0), reused 3 (delta 0), pack-reused 0\u001b[K\n",
            "Unpacking objects: 100% (3/3), done.\n",
            "/content/Fall-2022\n"
          ]
        }
      ]
    },
    {
      "cell_type": "markdown",
      "source": [
        "To check the files using command lines, we need to use a language called \"Bash\".\n",
        "\n",
        "Running bash commands in Colab cells under a python environment, we need to add `!` or `%` in front of the command."
      ],
      "metadata": {
        "id": "fRNbvbcV8M1z"
      }
    },
    {
      "cell_type": "code",
      "source": [
        "# show your current path\n",
        "\n",
        "# list all files under the current path\n"
      ],
      "metadata": {
        "id": "mCW1hXTv7nUU"
      },
      "execution_count": 6,
      "outputs": []
    },
    {
      "cell_type": "markdown",
      "source": [
        "Now let`s get into a dataset and use Pandas to manipulate and analyze the data."
      ],
      "metadata": {
        "id": "fBbG87EO9CRJ"
      }
    },
    {
      "cell_type": "code",
      "source": [
        "# read in an example dataset about dogs. Since this is a comma-separated file (csv), use pd.read_csv\n",
        "\n",
        "\n",
        "# Lets look at what the dataframe looks like\n"
      ],
      "metadata": {
        "id": "T8lpBD-RNECf"
      },
      "execution_count": null,
      "outputs": []
    },
    {
      "cell_type": "markdown",
      "source": [
        "Now let`s get a sense of the dataset structure."
      ],
      "metadata": {
        "id": "CqOqsNxNJMfu"
      }
    },
    {
      "cell_type": "code",
      "source": [
        "# how many rows are in the dataframe?\n",
        "\n",
        "\n",
        "# the column names can be selected by: df.colums\n",
        "# print the dataframe's columns:\n",
        "\n",
        "\n",
        "# how many columns are in the dataframe?\n",
        "\n",
        "\n",
        "# look at just the first 3 rows using df.head():\n"
      ],
      "metadata": {
        "id": "clvFYuDCNH8L"
      },
      "execution_count": null,
      "outputs": []
    },
    {
      "cell_type": "markdown",
      "source": [
        "### **Indexing**\n",
        "\n",
        "Columns of DataFrames are much more intuitive to index than columns of arrays. You can select the values of a single column by indexing with the column label. This is called a \"series\".\n",
        "\n",
        "```\n",
        "dataframe[column_label]\n",
        "```\n",
        "\n",
        "<img src ='https://github.com/ccbskillssem/pythonbootcamp/raw/main/day_4/ColumnIndex.png'> "
      ],
      "metadata": {
        "id": "0BTb2_yZ_j-v"
      }
    },
    {
      "cell_type": "code",
      "source": [
        "# select the column with dogs colors\n"
      ],
      "metadata": {
        "id": "N1AXKdgENTQd"
      },
      "execution_count": null,
      "outputs": []
    },
    {
      "cell_type": "markdown",
      "source": [
        "DataFrame rows are indexed similarly to array rows, with a minor syntax difference. With DataFrames, we use `.loc[]` instead of `[]` to access rows.\n",
        "\n",
        "```\n",
        "dataframe.loc[row_label]\n",
        "```\n",
        "\n",
        "Just as with columns, rows of DataFrames are also stored in Series structures: the only difference is that the column labels have been transposed to row labels, as a Series only has one Index for row labels.\n",
        "\n",
        "<img src='https://raw.githubusercontent.com/ccbskillssem/pythonbootcamp/main/day_4/RowIndex.png'>\n",
        "\n",
        "It can help to think of a DataFrame as a Lego-like structure composed of Series. When we select parts of the DataFrame, we're snapping off some of the Legos from the main structure."
      ],
      "metadata": {
        "id": "1tGOaknf_ysX"
      }
    },
    {
      "cell_type": "code",
      "source": [
        "# select the row with index 5\n"
      ],
      "metadata": {
        "id": "TXhxn2ttNStq"
      },
      "execution_count": null,
      "outputs": []
    },
    {
      "cell_type": "markdown",
      "source": [
        "### **Simple methods**\n",
        "\n",
        "Now that we're up to speed on how to parse DataFrames, we can learn about the utility that pandas has for data exploration."
      ],
      "metadata": {
        "id": "yVuM0_DRC4tt"
      }
    },
    {
      "cell_type": "code",
      "source": [
        "# print the oldest dog's age\n",
        "\n",
        "\n",
        "# print the average number of meals per day\n",
        "\n",
        "\n",
        "# print the median meal size of the dogs\n",
        "\n"
      ],
      "metadata": {
        "id": "nw146k3UC4JP"
      },
      "execution_count": null,
      "outputs": []
    },
    {
      "cell_type": "markdown",
      "source": [
        "new columns can be added to combine other columns"
      ],
      "metadata": {
        "id": "LqpEjiE1DmIw"
      }
    },
    {
      "cell_type": "code",
      "source": [
        "# create a column with the total food eaten each day by each dog using the equation: meals per day * size of each meal\n"
      ],
      "metadata": {
        "id": "mpNuCRpgDmik"
      },
      "execution_count": null,
      "outputs": []
    },
    {
      "cell_type": "markdown",
      "source": [
        "The dataframe can be filtered by specific parameters. Let's try selecting one dog"
      ],
      "metadata": {
        "id": "SYfXANpDDvdT"
      }
    },
    {
      "cell_type": "code",
      "source": [
        "# print the column with the dog names\n",
        "\n",
        "\n",
        "# Are any of the names \"Freddie\"?\n",
        "\n",
        "\n",
        "# print Freddie's information\n",
        "\n"
      ],
      "metadata": {
        "id": "Rq-uitIPDvCt"
      },
      "execution_count": null,
      "outputs": []
    },
    {
      "cell_type": "markdown",
      "source": [
        "The dataframe can be filtered to only include some values.\n",
        "\n",
        "Let's create a dataframe with just older dogs (age over 5 years)"
      ],
      "metadata": {
        "id": "OG7yIzemEXFs"
      }
    },
    {
      "cell_type": "code",
      "source": [
        "# print the column with the dog ages\n",
        "\n",
        "\n",
        "# print whether each dog's age is greater than 5\n",
        "\n",
        "\n",
        "# create a new dataframe with only dogs that are older than 5 years\n",
        "# to do this, the rows of the dataframe that meet a specific criteria\n",
        "\n"
      ],
      "metadata": {
        "id": "4x4yFvlAEWgp"
      },
      "execution_count": null,
      "outputs": []
    },
    {
      "cell_type": "markdown",
      "source": [
        "How much food was eaten by the older dogs on average?"
      ],
      "metadata": {
        "id": "6q13-MhZErq9"
      }
    },
    {
      "cell_type": "code",
      "source": [],
      "metadata": {
        "id": "P2pHfUcSNR_l"
      },
      "execution_count": null,
      "outputs": []
    },
    {
      "cell_type": "markdown",
      "source": [
        "create a dataframe of just the younger dogs who are 5 or fewer years old"
      ],
      "metadata": {
        "id": "PMTaYf_bEy1k"
      }
    },
    {
      "cell_type": "code",
      "source": [],
      "metadata": {
        "id": "A4kU6r6SNm15"
      },
      "execution_count": null,
      "outputs": []
    },
    {
      "cell_type": "markdown",
      "source": [
        "what is the mean food eaten by the young dogs?"
      ],
      "metadata": {
        "id": "g9W-wxr5FAE5"
      }
    },
    {
      "cell_type": "code",
      "source": [],
      "metadata": {
        "id": "bxyzDUKnFCtb"
      },
      "execution_count": null,
      "outputs": []
    },
    {
      "cell_type": "markdown",
      "source": [
        "How much food does freddie eat in a day?"
      ],
      "metadata": {
        "id": "GVtlNfOGFIFG"
      }
    },
    {
      "cell_type": "code",
      "source": [],
      "metadata": {
        "id": "u-gcxQE7FJNb"
      },
      "execution_count": null,
      "outputs": []
    },
    {
      "cell_type": "markdown",
      "source": [
        "## Plotting with matplotlib"
      ],
      "metadata": {
        "id": "zTCwtSEGLo3j"
      }
    },
    {
      "cell_type": "markdown",
      "source": [
        "You can make publication ready figures using matplotlib and you can change almost anything about the plot above (e.g. labels, fonts, colors, resolution, size, grid, axis, save in different formats etc)\n",
        "\n",
        "Details: https://matplotlib.org/stable/tutorials/index.html"
      ],
      "metadata": {
        "id": "TxBqIYmoL0KC"
      }
    },
    {
      "cell_type": "code",
      "source": [
        "# import required packages\n",
        "import matplotlib.pyplot as plt"
      ],
      "metadata": {
        "id": "kGZkHm04Konh"
      },
      "execution_count": null,
      "outputs": []
    },
    {
      "cell_type": "code",
      "source": [
        "# now check the data again\n",
        "dogs"
      ],
      "metadata": {
        "id": "f7KjHQTfJ_Qd"
      },
      "execution_count": null,
      "outputs": []
    },
    {
      "cell_type": "code",
      "source": [
        " # plot dots\n",
        " # plot a line\n",
        " # set x label\n",
        " # set y label\n",
        " # set title\n",
        " # save the figure"
      ],
      "metadata": {
        "id": "kAFSk3C_LwH8"
      },
      "execution_count": null,
      "outputs": []
    },
    {
      "cell_type": "markdown",
      "source": [
        "There are many packages developed for plotting in Python, Matplotlib here is the most basic one. Many other times there exist packages that are optimized for different types analysis that built upon Matplotlib. **Seaborn** is a very famous example of this. Check out the following link for plotting with seaborn:\n",
        "\n",
        "https://seaborn.pydata.org/"
      ],
      "metadata": {
        "id": "1uz4BV8TFWKD"
      }
    },
    {
      "cell_type": "code",
      "source": [],
      "metadata": {
        "id": "bZoqsbtfF8-B"
      },
      "execution_count": 6,
      "outputs": []
    }
  ]
}